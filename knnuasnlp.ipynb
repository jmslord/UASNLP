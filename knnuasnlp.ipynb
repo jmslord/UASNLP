{
  "nbformat": 4,
  "nbformat_minor": 0,
  "metadata": {
    "colab": {
      "name": "knnuasnlp.ipynb",
      "provenance": [],
      "authorship_tag": "ABX9TyPfibdgXhGiim6sUnM3iqoX",
      "include_colab_link": true
    },
    "kernelspec": {
      "name": "python3",
      "display_name": "Python 3"
    },
    "language_info": {
      "name": "python"
    }
  },
  "cells": [
    {
      "cell_type": "markdown",
      "metadata": {
        "id": "view-in-github",
        "colab_type": "text"
      },
      "source": [
        "<a href=\"https://colab.research.google.com/github/jmslord/UASNLP/blob/main/knnuasnlp.ipynb\" target=\"_parent\"><img src=\"https://colab.research.google.com/assets/colab-badge.svg\" alt=\"Open In Colab\"/></a>"
      ]
    },
    {
      "cell_type": "code",
      "execution_count": 2,
      "metadata": {
        "id": "8DG-o2_z_QF8"
      },
      "outputs": [],
      "source": [
        "from sklearn.feature_extraction.text import TfidfVectorizer\n",
        "from nltk.corpus import stopwords\n",
        "import numpy as np\n",
        "import pandas as pd\n",
        "from csv import reader,writer\n",
        "import operator as op\n",
        "import string\n",
        "from sklearn import neighbors\n",
        "\n",
        "#import required packages\n",
        "from sklearn import neighbors\n",
        "from sklearn.metrics import mean_squared_error \n",
        "from math import sqrt\n",
        "import matplotlib.pyplot as plt\n",
        "%matplotlib inline"
      ]
    },
    {
      "cell_type": "code",
      "source": [
        "\n",
        "#Read data from corpus\n",
        "r = reader(open('preprocessed_indonesian.csv','r'))\n",
        "col_list=['Tweet','HS']\n",
        "dataset = pd.read_csv(\"../content/preprocessed_indonesian.csv\",usecols=col_list,encoding='latin-1')\n",
        "dataset = dataset.dropna()\n",
        "dataset\n"
      ],
      "metadata": {
        "colab": {
          "base_uri": "https://localhost:8080/",
          "height": 423
        },
        "id": "nnpUUsTR_X3q",
        "outputId": "2ac1596c-1b64-4b07-d4ee-5caefe1aeb1a"
      },
      "execution_count": 3,
      "outputs": [
        {
          "output_type": "execute_result",
          "data": {
            "text/plain": [
              "                                                   Tweet  HS\n",
              "0      cowok usaha lacak perhati gue lantas remeh per...   1\n",
              "1      telat tau edan sarap gue gaul cigax jifla cal ...   0\n",
              "2      kadang pikir percaya tuhan jatuh kali kali kad...   0\n",
              "3                                ku tau mata sipit lihat   0\n",
              "4              kaum cebong kafir lihat dongok dungu haha   1\n",
              "...                                                  ...  ..\n",
              "13164                   bicara ndasmu congor kate anjing   1\n",
              "13165                                  kasur enak kunyuk   0\n",
              "13166               hati hati bisu bosan duh xf xf x xaa   0\n",
              "13167  bom real mudah deteksi bom kubur dahsyat ledak...   0\n",
              "13168                            situ foto ya kutil onta   1\n",
              "\n",
              "[13121 rows x 2 columns]"
            ],
            "text/html": [
              "\n",
              "  <div id=\"df-e5314016-e1c7-4608-953a-af31c98d590a\">\n",
              "    <div class=\"colab-df-container\">\n",
              "      <div>\n",
              "<style scoped>\n",
              "    .dataframe tbody tr th:only-of-type {\n",
              "        vertical-align: middle;\n",
              "    }\n",
              "\n",
              "    .dataframe tbody tr th {\n",
              "        vertical-align: top;\n",
              "    }\n",
              "\n",
              "    .dataframe thead th {\n",
              "        text-align: right;\n",
              "    }\n",
              "</style>\n",
              "<table border=\"1\" class=\"dataframe\">\n",
              "  <thead>\n",
              "    <tr style=\"text-align: right;\">\n",
              "      <th></th>\n",
              "      <th>Tweet</th>\n",
              "      <th>HS</th>\n",
              "    </tr>\n",
              "  </thead>\n",
              "  <tbody>\n",
              "    <tr>\n",
              "      <th>0</th>\n",
              "      <td>cowok usaha lacak perhati gue lantas remeh per...</td>\n",
              "      <td>1</td>\n",
              "    </tr>\n",
              "    <tr>\n",
              "      <th>1</th>\n",
              "      <td>telat tau edan sarap gue gaul cigax jifla cal ...</td>\n",
              "      <td>0</td>\n",
              "    </tr>\n",
              "    <tr>\n",
              "      <th>2</th>\n",
              "      <td>kadang pikir percaya tuhan jatuh kali kali kad...</td>\n",
              "      <td>0</td>\n",
              "    </tr>\n",
              "    <tr>\n",
              "      <th>3</th>\n",
              "      <td>ku tau mata sipit lihat</td>\n",
              "      <td>0</td>\n",
              "    </tr>\n",
              "    <tr>\n",
              "      <th>4</th>\n",
              "      <td>kaum cebong kafir lihat dongok dungu haha</td>\n",
              "      <td>1</td>\n",
              "    </tr>\n",
              "    <tr>\n",
              "      <th>...</th>\n",
              "      <td>...</td>\n",
              "      <td>...</td>\n",
              "    </tr>\n",
              "    <tr>\n",
              "      <th>13164</th>\n",
              "      <td>bicara ndasmu congor kate anjing</td>\n",
              "      <td>1</td>\n",
              "    </tr>\n",
              "    <tr>\n",
              "      <th>13165</th>\n",
              "      <td>kasur enak kunyuk</td>\n",
              "      <td>0</td>\n",
              "    </tr>\n",
              "    <tr>\n",
              "      <th>13166</th>\n",
              "      <td>hati hati bisu bosan duh xf xf x xaa</td>\n",
              "      <td>0</td>\n",
              "    </tr>\n",
              "    <tr>\n",
              "      <th>13167</th>\n",
              "      <td>bom real mudah deteksi bom kubur dahsyat ledak...</td>\n",
              "      <td>0</td>\n",
              "    </tr>\n",
              "    <tr>\n",
              "      <th>13168</th>\n",
              "      <td>situ foto ya kutil onta</td>\n",
              "      <td>1</td>\n",
              "    </tr>\n",
              "  </tbody>\n",
              "</table>\n",
              "<p>13121 rows × 2 columns</p>\n",
              "</div>\n",
              "      <button class=\"colab-df-convert\" onclick=\"convertToInteractive('df-e5314016-e1c7-4608-953a-af31c98d590a')\"\n",
              "              title=\"Convert this dataframe to an interactive table.\"\n",
              "              style=\"display:none;\">\n",
              "        \n",
              "  <svg xmlns=\"http://www.w3.org/2000/svg\" height=\"24px\"viewBox=\"0 0 24 24\"\n",
              "       width=\"24px\">\n",
              "    <path d=\"M0 0h24v24H0V0z\" fill=\"none\"/>\n",
              "    <path d=\"M18.56 5.44l.94 2.06.94-2.06 2.06-.94-2.06-.94-.94-2.06-.94 2.06-2.06.94zm-11 1L8.5 8.5l.94-2.06 2.06-.94-2.06-.94L8.5 2.5l-.94 2.06-2.06.94zm10 10l.94 2.06.94-2.06 2.06-.94-2.06-.94-.94-2.06-.94 2.06-2.06.94z\"/><path d=\"M17.41 7.96l-1.37-1.37c-.4-.4-.92-.59-1.43-.59-.52 0-1.04.2-1.43.59L10.3 9.45l-7.72 7.72c-.78.78-.78 2.05 0 2.83L4 21.41c.39.39.9.59 1.41.59.51 0 1.02-.2 1.41-.59l7.78-7.78 2.81-2.81c.8-.78.8-2.07 0-2.86zM5.41 20L4 18.59l7.72-7.72 1.47 1.35L5.41 20z\"/>\n",
              "  </svg>\n",
              "      </button>\n",
              "      \n",
              "  <style>\n",
              "    .colab-df-container {\n",
              "      display:flex;\n",
              "      flex-wrap:wrap;\n",
              "      gap: 12px;\n",
              "    }\n",
              "\n",
              "    .colab-df-convert {\n",
              "      background-color: #E8F0FE;\n",
              "      border: none;\n",
              "      border-radius: 50%;\n",
              "      cursor: pointer;\n",
              "      display: none;\n",
              "      fill: #1967D2;\n",
              "      height: 32px;\n",
              "      padding: 0 0 0 0;\n",
              "      width: 32px;\n",
              "    }\n",
              "\n",
              "    .colab-df-convert:hover {\n",
              "      background-color: #E2EBFA;\n",
              "      box-shadow: 0px 1px 2px rgba(60, 64, 67, 0.3), 0px 1px 3px 1px rgba(60, 64, 67, 0.15);\n",
              "      fill: #174EA6;\n",
              "    }\n",
              "\n",
              "    [theme=dark] .colab-df-convert {\n",
              "      background-color: #3B4455;\n",
              "      fill: #D2E3FC;\n",
              "    }\n",
              "\n",
              "    [theme=dark] .colab-df-convert:hover {\n",
              "      background-color: #434B5C;\n",
              "      box-shadow: 0px 1px 3px 1px rgba(0, 0, 0, 0.15);\n",
              "      filter: drop-shadow(0px 1px 2px rgba(0, 0, 0, 0.3));\n",
              "      fill: #FFFFFF;\n",
              "    }\n",
              "  </style>\n",
              "\n",
              "      <script>\n",
              "        const buttonEl =\n",
              "          document.querySelector('#df-e5314016-e1c7-4608-953a-af31c98d590a button.colab-df-convert');\n",
              "        buttonEl.style.display =\n",
              "          google.colab.kernel.accessAllowed ? 'block' : 'none';\n",
              "\n",
              "        async function convertToInteractive(key) {\n",
              "          const element = document.querySelector('#df-e5314016-e1c7-4608-953a-af31c98d590a');\n",
              "          const dataTable =\n",
              "            await google.colab.kernel.invokeFunction('convertToInteractive',\n",
              "                                                     [key], {});\n",
              "          if (!dataTable) return;\n",
              "\n",
              "          const docLinkHtml = 'Like what you see? Visit the ' +\n",
              "            '<a target=\"_blank\" href=https://colab.research.google.com/notebooks/data_table.ipynb>data table notebook</a>'\n",
              "            + ' to learn more about interactive tables.';\n",
              "          element.innerHTML = '';\n",
              "          dataTable['output_type'] = 'display_data';\n",
              "          await google.colab.output.renderOutput(dataTable, element);\n",
              "          const docLink = document.createElement('div');\n",
              "          docLink.innerHTML = docLinkHtml;\n",
              "          element.appendChild(docLink);\n",
              "        }\n",
              "      </script>\n",
              "    </div>\n",
              "  </div>\n",
              "  "
            ]
          },
          "metadata": {},
          "execution_count": 3
        }
      ]
    },
    {
      "cell_type": "code",
      "source": [
        "abstract_list = []\n",
        "score_list = []\n",
        "row_count = 0\n",
        "for row in list(r)[1:]:\n",
        "    abstract,score = row[0], row[1]\n",
        "    if len(abstract.split()) > 0:\n",
        "      score = float(score)\n",
        "      score_list.append(score)\n",
        "      abstract_list.append(abstract)\n",
        "      row_count = row_count + 1\n",
        "\n",
        "print(\"Total processed data: \", row_count)"
      ],
      "metadata": {
        "colab": {
          "base_uri": "https://localhost:8080/"
        },
        "id": "wtqICJh2A4R6",
        "outputId": "9bbf9e81-7534-47c8-ce16-3661b54d863a"
      },
      "execution_count": 4,
      "outputs": [
        {
          "output_type": "stream",
          "name": "stdout",
          "text": [
            "Total processed data:  13121\n"
          ]
        }
      ]
    },
    {
      "cell_type": "code",
      "source": [
        "vectorizer = TfidfVectorizer()\n",
        "response = vectorizer.fit_transform(abstract_list)\n",
        "print(response)\n",
        "classes = score_list\n",
        "feature_names = vectorizer.get_feature_names_out()\n",
        "feature_names"
      ],
      "metadata": {
        "colab": {
          "base_uri": "https://localhost:8080/"
        },
        "id": "It3HTmJcAe0K",
        "outputId": "452b2965-bad7-45fe-cf1a-010ebd811af2"
      },
      "execution_count": 5,
      "outputs": [
        {
          "output_type": "stream",
          "name": "stdout",
          "text": [
            "  (0, 1165)\t0.20043856798351384\n",
            "  (0, 1079)\t0.3307628539426501\n",
            "  (0, 5767)\t0.18866136775818834\n",
            "  (0, 5403)\t0.17615132531262542\n",
            "  (0, 9606)\t0.2961889537507844\n",
            "  (0, 6325)\t0.284963567189758\n",
            "  (0, 3863)\t0.2641929658844304\n",
            "  (0, 8762)\t0.467544325304394\n",
            "  (0, 6241)\t0.31275642308090484\n",
            "  (0, 12177)\t0.19737144630626074\n",
            "  (0, 2187)\t0.4355434484992407\n",
            "  (1, 6526)\t0.39381248244505895\n",
            "  (1, 1787)\t0.37750040975588856\n",
            "  (1, 5018)\t0.39381248244505895\n",
            "  (1, 2030)\t0.39381248244505895\n",
            "  (1, 3548)\t0.3185089050008047\n",
            "  (1, 10103)\t0.2525411786902222\n",
            "  (1, 2845)\t0.25566138689308465\n",
            "  (1, 11408)\t0.18815454857525168\n",
            "  (1, 11487)\t0.3217290648609238\n",
            "  (1, 3863)\t0.15076202132009714\n",
            "  (2, 11561)\t0.2658655876329197\n",
            "  (2, 450)\t0.16012566130898667\n",
            "  (2, 6090)\t0.15839762994308337\n",
            "  (2, 8909)\t0.1352791936789214\n",
            "  :\t:\n",
            "  (13116, 523)\t0.31569714693972367\n",
            "  (13116, 1366)\t0.31934062479198605\n",
            "  (13117, 5410)\t0.7345680550785934\n",
            "  (13117, 6174)\t0.4801780877192638\n",
            "  (13117, 3031)\t0.47941503578040146\n",
            "  (13118, 2777)\t0.4282292432550415\n",
            "  (13118, 1562)\t0.3953559933483307\n",
            "  (13118, 12517)\t0.39848958382627214\n",
            "  (13118, 1437)\t0.31933000097926917\n",
            "  (13118, 4078)\t0.5148979778715401\n",
            "  (13118, 12675)\t0.36664400743106734\n",
            "  (13119, 2493)\t0.3693395900395213\n",
            "  (13119, 9511)\t0.3411938446381451\n",
            "  (13119, 2288)\t0.36027868384327155\n",
            "  (13119, 6128)\t0.32147944666233436\n",
            "  (13119, 6410)\t0.30826543340884527\n",
            "  (13119, 9695)\t0.313048099236769\n",
            "  (13119, 5051)\t0.2812635869557381\n",
            "  (13119, 7535)\t0.25086138733156305\n",
            "  (13119, 1519)\t0.42303419729461245\n",
            "  (13120, 6203)\t0.5837429592808744\n",
            "  (13120, 3375)\t0.460831342452239\n",
            "  (13120, 10695)\t0.48607870808367315\n",
            "  (13120, 8267)\t0.37771596001902846\n",
            "  (13120, 12734)\t0.2606468384582585\n"
          ]
        },
        {
          "output_type": "execute_result",
          "data": {
            "text/plain": [
              "array(['10', 'aaa', 'aaaa', ..., 'zumiiiii', 'zzzzzz', 'zzzzzzzz'],\n",
              "      dtype=object)"
            ]
          },
          "metadata": {},
          "execution_count": 5
        }
      ]
    },
    {
      "cell_type": "code",
      "source": [
        "clf = neighbors.KNeighborsClassifier(n_neighbors=3)\n",
        "clf.fit(response, classes)\n",
        "hasil=clf.predict(response)"
      ],
      "metadata": {
        "id": "j6uG6islBh4y"
      },
      "execution_count": 6,
      "outputs": []
    },
    {
      "cell_type": "code",
      "source": [
        "output_df = pd.DataFrame(data = {'Tweet': dataset['Tweet'], 'Test':dataset['HS'] ,'code': hasil})\n",
        "output_df['answer'] = np.where(output_df['code']==1, 'HS','NonHS')\n",
        "print(output_df.head(20))"
      ],
      "metadata": {
        "colab": {
          "base_uri": "https://localhost:8080/"
        },
        "id": "gRHumbZxB7AZ",
        "outputId": "a3041483-92f5-4e09-b6c7-46e11fe13393"
      },
      "execution_count": 7,
      "outputs": [
        {
          "output_type": "stream",
          "name": "stdout",
          "text": [
            "                                                Tweet  Test  code answer\n",
            "0   cowok usaha lacak perhati gue lantas remeh per...     1   0.0  NonHS\n",
            "1   telat tau edan sarap gue gaul cigax jifla cal ...     0   0.0  NonHS\n",
            "2   kadang pikir percaya tuhan jatuh kali kali kad...     0   0.0  NonHS\n",
            "3                             ku tau mata sipit lihat     0   0.0  NonHS\n",
            "4           kaum cebong kafir lihat dongok dungu haha     1   1.0     HS\n",
            "5   ya bani taplak kawan kawan xf xf x x xf xf x x...     1   1.0     HS\n",
            "6   deklarasi pilih kepala daerah aman anti hoaks ...     0   0.0  NonHS\n",
            "7   gue selesai re watch aldnoah zero kampret kara...     0   0.0  NonHS\n",
            "8   admin belanja po nak makan ais kepal milo ais ...     0   0.0  NonHS\n",
            "9                                          enak ngewe     0   0.0  NonHS\n",
            "10           gue jari gue ukur nyali bacot xf xf x xf     1   1.0     HS\n",
            "11  banci kaleng malu pe anyaan nyungsep koe unifo...     1   1.0     HS\n",
            "12  ajar ekonomi mesti jago privatisasi hati orang...     0   0.0  NonHS\n",
            "13  aktor huru hara prabowo si lengser perintah jo...     1   0.0  NonHS\n",
            "14  bu guru enak jablay guru sekolah dasar sih kay...     1   1.0     HS\n",
            "15  lawan bicara gue intelek kayak otak kencing on...     1   1.0     HS\n",
            "16                              pikir ampas banget ya     0   0.0  NonHS\n",
            "17            ari bek rapi monyet xf xf x x xf xf x x     0   0.0  NonHS\n",
            "18                     cowok gantle gantle nama banci     1   0.0  NonHS\n",
            "19                             alga mnr bom xf xf x x     0   0.0  NonHS\n"
          ]
        }
      ]
    },
    {
      "cell_type": "code",
      "source": [
        "from sklearn.metrics import accuracy_score\n",
        "hasil_accurate = accuracy_score(hasil,dataset['HS'])\n",
        "print(hasil_accurate)"
      ],
      "metadata": {
        "colab": {
          "base_uri": "https://localhost:8080/"
        },
        "id": "2s12wWJzTtfB",
        "outputId": "09b65e88-c45b-41d7-be3d-a84027818e09"
      },
      "execution_count": 8,
      "outputs": [
        {
          "output_type": "stream",
          "name": "stdout",
          "text": [
            "0.8715036963646063\n"
          ]
        }
      ]
    },
    {
      "cell_type": "code",
      "source": [
        "acc_val = [] #to store rmse values for different k\n",
        "for K in range(10):\n",
        "    K = K+1\n",
        "    clf = neighbors.KNeighborsClassifier(n_neighbors=K)\n",
        "    clf.fit(response, classes)\n",
        "    hasil=clf.predict(response)\n",
        "    hasil_accurate = accuracy_score(hasil,dataset['HS'])\n",
        "    acc_val.append(hasil_accurate) #store rmse values\n",
        "    print('Accuracy Score for k= ' , K , 'is:', hasil_accurate)"
      ],
      "metadata": {
        "colab": {
          "base_uri": "https://localhost:8080/"
        },
        "id": "ZDNSu_orUAhy",
        "outputId": "8d149403-f248-4cf4-c17d-ebe94c391745"
      },
      "execution_count": 9,
      "outputs": [
        {
          "output_type": "stream",
          "name": "stdout",
          "text": [
            "Accuracy Score for k=  1 is: 0.9962655285420319\n",
            "Accuracy Score for k=  2 is: 0.7268500876457588\n",
            "Accuracy Score for k=  3 is: 0.8715036963646063\n",
            "Accuracy Score for k=  4 is: 0.8083225363920433\n",
            "Accuracy Score for k=  5 is: 0.8437619083911287\n",
            "Accuracy Score for k=  6 is: 0.8167822574498895\n",
            "Accuracy Score for k=  7 is: 0.8295861595914945\n",
            "Accuracy Score for k=  8 is: 0.8187638137337093\n",
            "Accuracy Score for k=  9 is: 0.8215075070497675\n",
            "Accuracy Score for k=  10 is: 0.8152579833854127\n"
          ]
        }
      ]
    },
    {
      "cell_type": "code",
      "source": [
        "from sklearn.model_selection import train_test_split\n",
        "train , test = train_test_split(dataset, test_size = 0.3)\n",
        "\n",
        "x_train = train['Tweet']\n",
        "x_train = vectorizer.fit_transform(x_train)\n",
        "y_train = train['HS']\n",
        "\n",
        "x_test = train['Tweet']\n",
        "x_test = vectorizer.fit_transform(x_test)\n",
        "y_test = train['HS']\n",
        "print(x_train.shape)\n",
        "print(y_train.shape)\n",
        "print(x_test.shape)\n",
        "print(y_test.shape)"
      ],
      "metadata": {
        "id": "GD8AW3fpW5uK",
        "colab": {
          "base_uri": "https://localhost:8080/"
        },
        "outputId": "6032672a-0c61-4742-bcad-bcbfdf90393a"
      },
      "execution_count": 47,
      "outputs": [
        {
          "output_type": "stream",
          "name": "stdout",
          "text": [
            "(9184, 10900)\n",
            "(9184,)\n",
            "(9184, 10900)\n",
            "(9184,)\n"
          ]
        }
      ]
    },
    {
      "cell_type": "code",
      "source": [
        "acc_val1 = [] #to store rmse values for different k\n",
        "rmse_val=[]\n",
        "for K in range(10):\n",
        "    K = K+1\n",
        "    clf = neighbors.KNeighborsClassifier(n_neighbors=K)\n",
        "    clf.fit(x_train, y_train)\n",
        "    hasil=clf.predict(x_test)\n",
        "    hasil_accurate = accuracy_score(hasil,y_test)\n",
        "    error = sqrt(mean_squared_error(y_test,hasil)) #calculate rmse\n",
        "    rmse_val.append(error) #store rmse values\n",
        "    acc_val1.append(hasil_accurate) #store rmse values\n",
        "    print('Accuracy Score for k= ' , K , 'is:', hasil_accurate)\n",
        "    print('RMSE Score for k= ' , K , 'is:', error)"
      ],
      "metadata": {
        "colab": {
          "base_uri": "https://localhost:8080/"
        },
        "id": "ue06QvM8XGMh",
        "outputId": "17078a3c-d24f-432e-dcd9-fb21b8681094"
      },
      "execution_count": null,
      "outputs": [
        {
          "output_type": "stream",
          "name": "stdout",
          "text": [
            "Accuracy Score for k=  1 is: 0.9970601045296167\n",
            "RMSE Score for k=  1 is: 0.054220802930086485\n",
            "Accuracy Score for k=  2 is: 0.709168118466899\n",
            "RMSE Score for k=  2 is: 0.5392883102136565\n",
            "Accuracy Score for k=  3 is: 0.8695557491289199\n",
            "RMSE Score for k=  3 is: 0.3611706672351454\n",
            "Accuracy Score for k=  4 is: 0.8013937282229965\n",
            "RMSE Score for k=  4 is: 0.44565263577926195\n",
            "Accuracy Score for k=  5 is: 0.8450566202090593\n",
            "RMSE Score for k=  5 is: 0.3936284793951535\n",
            "Accuracy Score for k=  6 is: 0.8197952961672473\n",
            "RMSE Score for k=  6 is: 0.4245052459425591\n",
            "Accuracy Score for k=  7 is: 0.82948606271777\n",
            "RMSE Score for k=  7 is: 0.41293333273329963\n",
            "Accuracy Score for k=  8 is: 0.814677700348432\n",
            "RMSE Score for k=  8 is: 0.4304907660468084\n",
            "Accuracy Score for k=  9 is: 0.820993031358885\n",
            "RMSE Score for k=  9 is: 0.42309215147661977\n",
            "Accuracy Score for k=  10 is: 0.8134799651567944\n",
            "RMSE Score for k=  10 is: 0.43187965319427307\n"
          ]
        }
      ]
    },
    {
      "cell_type": "code",
      "source": [
        "curve = pd.DataFrame(acc_val1) #elbow curve \n",
        "curve.plot()"
      ],
      "metadata": {
        "colab": {
          "base_uri": "https://localhost:8080/",
          "height": 283
        },
        "id": "cjgGmCjDYS-6",
        "outputId": "5edb836f-1501-44ff-9d17-30bd441844e8"
      },
      "execution_count": null,
      "outputs": [
        {
          "output_type": "execute_result",
          "data": {
            "text/plain": [
              "<matplotlib.axes._subplots.AxesSubplot at 0x7fae17f46d50>"
            ]
          },
          "metadata": {},
          "execution_count": 113
        },
        {
          "output_type": "display_data",
          "data": {
            "text/plain": [
              "<Figure size 432x288 with 1 Axes>"
            ],
            "image/png": "[encoded data removed]"
          },
          "metadata": {
            "needs_background": "light"
          }
        }
      ]
    },
    {
      "cell_type": "code",
      "source": [
        "curve = pd.DataFrame(rmse_val) #elbow curve \n",
        "curve.plot()"
      ],
      "metadata": {
        "colab": {
          "base_uri": "https://localhost:8080/",
          "height": 283
        },
        "id": "ezzbtS5GYWQZ",
        "outputId": "7454d8b4-2470-4d8c-9348-f61789836ded"
      },
      "execution_count": null,
      "outputs": [
        {
          "output_type": "execute_result",
          "data": {
            "text/plain": [
              "<matplotlib.axes._subplots.AxesSubplot at 0x7fae16c87850>"
            ]
          },
          "metadata": {},
          "execution_count": 114
        },
        {
          "output_type": "display_data",
          "data": {
            "text/plain": [
              "<Figure size 432x288 with 1 Axes>"
            ],
            "image/png": "[encoded data removed]"
          },
          "metadata": {
            "needs_background": "light"
          }
        }
      ]
    },
    {
      "cell_type": "code",
      "source": [
        "ig=pd.read_excel('DataScrap.xlsx')\n",
        "ig"
      ],
      "metadata": {
        "colab": {
          "base_uri": "https://localhost:8080/",
          "height": 1000
        },
        "id": "lX97dAKS1n_E",
        "outputId": "7da843fe-547d-4e82-c19e-9d72143e65b6"
      },
      "execution_count": 32,
      "outputs": [
        {
          "output_type": "execute_result",
          "data": {
            "text/plain": [
              "                                                Komen\n",
              "0   sehat selalu pak Jokowi presiden yg terbaik bu...\n",
              "1                                JANGAN UNTUK HP YA 😂\n",
              "2       Liat foto Bapak, saya jadi lupa jualan apa 🤔🤔\n",
              "3                              1 minit ,isiin gopay🗿🗿\n",
              "4                                      3 Periode 🔥🔥🔥🔥\n",
              "5           Inget jangan dipake beli hape kata pakde!\n",
              "6         Presiden ku keren dekat ma seluruh rakyat 💞\n",
              "7           Bapak Presiden kita memang luar biasa🔥👍👍👍\n",
              "8   Sehat Selalu Ya Ka🖤\\n.\\n.\\n1000F igeh 20K, sed...\n",
              "9   Biarin pak beli hp juga kan banyak hikmah ilmu...\n",
              "10  Gerak cepat pak CPO ini gimana pak makin membl...\n",
              "11                                               😍😍😍😍\n",
              "12  dikasi uang sama pak jokowi pasti nte bore up ...\n",
              "13                                         Pak Iphone\n",
              "14  Selamat mlm pak,sya kok tidak pernah dapat ban...\n",
              "15                       1000 Followers 20rb nya kk🔥🔥\n",
              "16                                              🔥🔥🔥🔥🔥\n",
              "17                               jangan untuk depo ya\n",
              "18                                   Sehat2 pakde😍🔥❤️\n",
              "19                              💜💜Wow! its amazing!💜💜\n",
              "20  Pak mohon ya pak turunkan harga minyak... Cuku...\n",
              "21                                               Waww\n",
              "22  Gpp buat beli hp juga pak biar bisa jualan onl...\n",
              "23                                        asikquiiee😍\n",
              "24  Sugeh bgt y pak presidenn,,,duitnya banyakkkk ...\n",
              "25  Sehat selalu ya, Pak Presiden Jokowi sekeluarg...\n",
              "26  Harga minyak goreng di tempat saya belum turun...\n",
              "27                                              😍😍😍😍😍\n",
              "28                  Hhha captionnya bikin ngakak pak😂\n",
              "29                        Joki Rank Mobile Legend nya\n",
              "30  Alhamdulillah berkah selaluuu. Semoga bpk dan ...\n",
              "31                                Mantap pak presiden\n",
              "32                                          BPK lapar\n",
              "33                          ke pasar pandeglang pak❤️\n",
              "34                                       Lebih baik 😂\n",
              "35  Tak habis2nya kami mengagumi dan bersyukur mem...\n",
              "36                               Sendhiko dhawuh pak😂\n",
              "37                                  Selamat malam pak\n",
              "38                                        ❤️❤️❤️❤️🔥🔥🔥\n",
              "39                                    😂😂😂 sa ae pakde"
            ],
            "text/html": [
              "\n",
              "  <div id=\"df-ce3c9062-1ad1-4fb4-ac1f-72c0a44617bf\">\n",
              "    <div class=\"colab-df-container\">\n",
              "      <div>\n",
              "<style scoped>\n",
              "    .dataframe tbody tr th:only-of-type {\n",
              "        vertical-align: middle;\n",
              "    }\n",
              "\n",
              "    .dataframe tbody tr th {\n",
              "        vertical-align: top;\n",
              "    }\n",
              "\n",
              "    .dataframe thead th {\n",
              "        text-align: right;\n",
              "    }\n",
              "</style>\n",
              "<table border=\"1\" class=\"dataframe\">\n",
              "  <thead>\n",
              "    <tr style=\"text-align: right;\">\n",
              "      <th></th>\n",
              "      <th>Komen</th>\n",
              "    </tr>\n",
              "  </thead>\n",
              "  <tbody>\n",
              "    <tr>\n",
              "      <th>0</th>\n",
              "      <td>sehat selalu pak Jokowi presiden yg terbaik bu...</td>\n",
              "    </tr>\n",
              "    <tr>\n",
              "      <th>1</th>\n",
              "      <td>JANGAN UNTUK HP YA 😂</td>\n",
              "    </tr>\n",
              "    <tr>\n",
              "      <th>2</th>\n",
              "      <td>Liat foto Bapak, saya jadi lupa jualan apa 🤔🤔</td>\n",
              "    </tr>\n",
              "    <tr>\n",
              "      <th>3</th>\n",
              "      <td>1 minit ,isiin gopay🗿🗿</td>\n",
              "    </tr>\n",
              "    <tr>\n",
              "      <th>4</th>\n",
              "      <td>3 Periode 🔥🔥🔥🔥</td>\n",
              "    </tr>\n",
              "    <tr>\n",
              "      <th>5</th>\n",
              "      <td>Inget jangan dipake beli hape kata pakde!</td>\n",
              "    </tr>\n",
              "    <tr>\n",
              "      <th>6</th>\n",
              "      <td>Presiden ku keren dekat ma seluruh rakyat 💞</td>\n",
              "    </tr>\n",
              "    <tr>\n",
              "      <th>7</th>\n",
              "      <td>Bapak Presiden kita memang luar biasa🔥👍👍👍</td>\n",
              "    </tr>\n",
              "    <tr>\n",
              "      <th>8</th>\n",
              "      <td>Sehat Selalu Ya Ka🖤\\n.\\n.\\n1000F igeh 20K, sed...</td>\n",
              "    </tr>\n",
              "    <tr>\n",
              "      <th>9</th>\n",
              "      <td>Biarin pak beli hp juga kan banyak hikmah ilmu...</td>\n",
              "    </tr>\n",
              "    <tr>\n",
              "      <th>10</th>\n",
              "      <td>Gerak cepat pak CPO ini gimana pak makin membl...</td>\n",
              "    </tr>\n",
              "    <tr>\n",
              "      <th>11</th>\n",
              "      <td>😍😍😍😍</td>\n",
              "    </tr>\n",
              "    <tr>\n",
              "      <th>12</th>\n",
              "      <td>dikasi uang sama pak jokowi pasti nte bore up ...</td>\n",
              "    </tr>\n",
              "    <tr>\n",
              "      <th>13</th>\n",
              "      <td>Pak Iphone</td>\n",
              "    </tr>\n",
              "    <tr>\n",
              "      <th>14</th>\n",
              "      <td>Selamat mlm pak,sya kok tidak pernah dapat ban...</td>\n",
              "    </tr>\n",
              "    <tr>\n",
              "      <th>15</th>\n",
              "      <td>1000 Followers 20rb nya kk🔥🔥</td>\n",
              "    </tr>\n",
              "    <tr>\n",
              "      <th>16</th>\n",
              "      <td>🔥🔥🔥🔥🔥</td>\n",
              "    </tr>\n",
              "    <tr>\n",
              "      <th>17</th>\n",
              "      <td>jangan untuk depo ya</td>\n",
              "    </tr>\n",
              "    <tr>\n",
              "      <th>18</th>\n",
              "      <td>Sehat2 pakde😍🔥❤️</td>\n",
              "    </tr>\n",
              "    <tr>\n",
              "      <th>19</th>\n",
              "      <td>💜💜Wow! its amazing!💜💜</td>\n",
              "    </tr>\n",
              "    <tr>\n",
              "      <th>20</th>\n",
              "      <td>Pak mohon ya pak turunkan harga minyak... Cuku...</td>\n",
              "    </tr>\n",
              "    <tr>\n",
              "      <th>21</th>\n",
              "      <td>Waww</td>\n",
              "    </tr>\n",
              "    <tr>\n",
              "      <th>22</th>\n",
              "      <td>Gpp buat beli hp juga pak biar bisa jualan onl...</td>\n",
              "    </tr>\n",
              "    <tr>\n",
              "      <th>23</th>\n",
              "      <td>asikquiiee😍</td>\n",
              "    </tr>\n",
              "    <tr>\n",
              "      <th>24</th>\n",
              "      <td>Sugeh bgt y pak presidenn,,,duitnya banyakkkk ...</td>\n",
              "    </tr>\n",
              "    <tr>\n",
              "      <th>25</th>\n",
              "      <td>Sehat selalu ya, Pak Presiden Jokowi sekeluarg...</td>\n",
              "    </tr>\n",
              "    <tr>\n",
              "      <th>26</th>\n",
              "      <td>Harga minyak goreng di tempat saya belum turun...</td>\n",
              "    </tr>\n",
              "    <tr>\n",
              "      <th>27</th>\n",
              "      <td>😍😍😍😍😍</td>\n",
              "    </tr>\n",
              "    <tr>\n",
              "      <th>28</th>\n",
              "      <td>Hhha captionnya bikin ngakak pak😂</td>\n",
              "    </tr>\n",
              "    <tr>\n",
              "      <th>29</th>\n",
              "      <td>Joki Rank Mobile Legend nya</td>\n",
              "    </tr>\n",
              "    <tr>\n",
              "      <th>30</th>\n",
              "      <td>Alhamdulillah berkah selaluuu. Semoga bpk dan ...</td>\n",
              "    </tr>\n",
              "    <tr>\n",
              "      <th>31</th>\n",
              "      <td>Mantap pak presiden</td>\n",
              "    </tr>\n",
              "    <tr>\n",
              "      <th>32</th>\n",
              "      <td>BPK lapar</td>\n",
              "    </tr>\n",
              "    <tr>\n",
              "      <th>33</th>\n",
              "      <td>ke pasar pandeglang pak❤️</td>\n",
              "    </tr>\n",
              "    <tr>\n",
              "      <th>34</th>\n",
              "      <td>Lebih baik 😂</td>\n",
              "    </tr>\n",
              "    <tr>\n",
              "      <th>35</th>\n",
              "      <td>Tak habis2nya kami mengagumi dan bersyukur mem...</td>\n",
              "    </tr>\n",
              "    <tr>\n",
              "      <th>36</th>\n",
              "      <td>Sendhiko dhawuh pak😂</td>\n",
              "    </tr>\n",
              "    <tr>\n",
              "      <th>37</th>\n",
              "      <td>Selamat malam pak</td>\n",
              "    </tr>\n",
              "    <tr>\n",
              "      <th>38</th>\n",
              "      <td>❤️❤️❤️❤️🔥🔥🔥</td>\n",
              "    </tr>\n",
              "    <tr>\n",
              "      <th>39</th>\n",
              "      <td>😂😂😂 sa ae pakde</td>\n",
              "    </tr>\n",
              "  </tbody>\n",
              "</table>\n",
              "</div>\n",
              "      <button class=\"colab-df-convert\" onclick=\"convertToInteractive('df-ce3c9062-1ad1-4fb4-ac1f-72c0a44617bf')\"\n",
              "              title=\"Convert this dataframe to an interactive table.\"\n",
              "              style=\"display:none;\">\n",
              "        \n",
              "  <svg xmlns=\"http://www.w3.org/2000/svg\" height=\"24px\"viewBox=\"0 0 24 24\"\n",
              "       width=\"24px\">\n",
              "    <path d=\"M0 0h24v24H0V0z\" fill=\"none\"/>\n",
              "    <path d=\"M18.56 5.44l.94 2.06.94-2.06 2.06-.94-2.06-.94-.94-2.06-.94 2.06-2.06.94zm-11 1L8.5 8.5l.94-2.06 2.06-.94-2.06-.94L8.5 2.5l-.94 2.06-2.06.94zm10 10l.94 2.06.94-2.06 2.06-.94-2.06-.94-.94-2.06-.94 2.06-2.06.94z\"/><path d=\"M17.41 7.96l-1.37-1.37c-.4-.4-.92-.59-1.43-.59-.52 0-1.04.2-1.43.59L10.3 9.45l-7.72 7.72c-.78.78-.78 2.05 0 2.83L4 21.41c.39.39.9.59 1.41.59.51 0 1.02-.2 1.41-.59l7.78-7.78 2.81-2.81c.8-.78.8-2.07 0-2.86zM5.41 20L4 18.59l7.72-7.72 1.47 1.35L5.41 20z\"/>\n",
              "  </svg>\n",
              "      </button>\n",
              "      \n",
              "  <style>\n",
              "    .colab-df-container {\n",
              "      display:flex;\n",
              "      flex-wrap:wrap;\n",
              "      gap: 12px;\n",
              "    }\n",
              "\n",
              "    .colab-df-convert {\n",
              "      background-color: #E8F0FE;\n",
              "      border: none;\n",
              "      border-radius: 50%;\n",
              "      cursor: pointer;\n",
              "      display: none;\n",
              "      fill: #1967D2;\n",
              "      height: 32px;\n",
              "      padding: 0 0 0 0;\n",
              "      width: 32px;\n",
              "    }\n",
              "\n",
              "    .colab-df-convert:hover {\n",
              "      background-color: #E2EBFA;\n",
              "      box-shadow: 0px 1px 2px rgba(60, 64, 67, 0.3), 0px 1px 3px 1px rgba(60, 64, 67, 0.15);\n",
              "      fill: #174EA6;\n",
              "    }\n",
              "\n",
              "    [theme=dark] .colab-df-convert {\n",
              "      background-color: #3B4455;\n",
              "      fill: #D2E3FC;\n",
              "    }\n",
              "\n",
              "    [theme=dark] .colab-df-convert:hover {\n",
              "      background-color: #434B5C;\n",
              "      box-shadow: 0px 1px 3px 1px rgba(0, 0, 0, 0.15);\n",
              "      filter: drop-shadow(0px 1px 2px rgba(0, 0, 0, 0.3));\n",
              "      fill: #FFFFFF;\n",
              "    }\n",
              "  </style>\n",
              "\n",
              "      <script>\n",
              "        const buttonEl =\n",
              "          document.querySelector('#df-ce3c9062-1ad1-4fb4-ac1f-72c0a44617bf button.colab-df-convert');\n",
              "        buttonEl.style.display =\n",
              "          google.colab.kernel.accessAllowed ? 'block' : 'none';\n",
              "\n",
              "        async function convertToInteractive(key) {\n",
              "          const element = document.querySelector('#df-ce3c9062-1ad1-4fb4-ac1f-72c0a44617bf');\n",
              "          const dataTable =\n",
              "            await google.colab.kernel.invokeFunction('convertToInteractive',\n",
              "                                                     [key], {});\n",
              "          if (!dataTable) return;\n",
              "\n",
              "          const docLinkHtml = 'Like what you see? Visit the ' +\n",
              "            '<a target=\"_blank\" href=https://colab.research.google.com/notebooks/data_table.ipynb>data table notebook</a>'\n",
              "            + ' to learn more about interactive tables.';\n",
              "          element.innerHTML = '';\n",
              "          dataTable['output_type'] = 'display_data';\n",
              "          await google.colab.output.renderOutput(dataTable, element);\n",
              "          const docLink = document.createElement('div');\n",
              "          docLink.innerHTML = docLinkHtml;\n",
              "          element.appendChild(docLink);\n",
              "        }\n",
              "      </script>\n",
              "    </div>\n",
              "  </div>\n",
              "  "
            ]
          },
          "metadata": {},
          "execution_count": 32
        }
      ]
    },
    {
      "cell_type": "code",
      "source": [
        "komen = []\n",
        "komen = ig['Komen'].tolist()\n",
        "print(komen)"
      ],
      "metadata": {
        "colab": {
          "base_uri": "https://localhost:8080/"
        },
        "id": "ba42T3f75PLE",
        "outputId": "c02a4951-7ac6-4194-be29-9f80eedecd8d"
      },
      "execution_count": 33,
      "outputs": [
        {
          "output_type": "stream",
          "name": "stdout",
          "text": [
            "['sehat selalu pak Jokowi presiden yg terbaik buat rakyat Indonesia 🇮🇩', 'JANGAN UNTUK HP YA 😂', 'Liat foto Bapak, saya jadi lupa jualan apa 🤔🤔', '1 minit ,isiin gopay🗿🗿', '3 Periode 🔥🔥🔥🔥', 'Inget jangan dipake beli hape kata pakde!', 'Presiden ku keren dekat ma seluruh rakyat 💞', 'Bapak Presiden kita memang luar biasa🔥👍👍👍', 'Sehat Selalu Ya Ka🖤\\n.\\n.\\n1000F igeh 20K, sedia F0lls twiter dan tiktok jugalohhh🖤🖤🖤', 'Biarin pak beli hp juga kan banyak hikmah ilmu yang di dapat,karena ilmu lebih berharga daripada uang.', 'Gerak cepat pak CPO ini gimana pak makin membludak 😭', '😍😍😍😍', 'dikasi uang sama pak jokowi pasti nte bore up motor', 'Pak Iphone', 'Selamat mlm pak,sya kok tidak pernah dapat bantuan ya😂😂😂😂😂', '1000 Followers 20rb nya kk🔥🔥', '🔥🔥🔥🔥🔥', 'jangan untuk depo ya', 'Sehat2 pakde😍🔥❤️', '💜💜Wow! its amazing!💜💜', 'Pak mohon ya pak turunkan harga minyak... Cukuplah 15 rb per liter', 'Waww', 'Gpp buat beli hp juga pak biar bisa jualan online 😂', 'asikquiiee😍', 'Sugeh bgt y pak presidenn,,,duitnya banyakkkk bagi2 terus😂', 'Sehat selalu ya, Pak Presiden Jokowi sekeluarga 🙌\\nYang membaca komentar ini, kami doakan sehat dan sejahtera senantiasa ya ❤️', 'Harga minyak goreng di tempat saya belum turun, Pak. Minyak goreng bermerek kasih 54 ribu/2 liter🙏', '😍😍😍😍😍', 'Hhha captionnya bikin ngakak pak😂', 'Joki Rank Mobile Legend nya', 'Alhamdulillah berkah selaluuu. Semoga bpk dan para penjual selalu dlm lindungan Allah.😢😢👏', 'Mantap pak presiden', 'BPK lapar', 'ke pasar pandeglang pak❤️', 'Lebih baik 😂', 'Tak habis2nya kami mengagumi dan bersyukur memiliki Presiden yang amanah dan sehebat Bpk. Jokowi.\\n.\\nPresiden yang tulus dan jujur membangun Indonesia tanpa pilih kasih. Sebagai Putera/i Indonesia bagian Timur, kami sangat berterima kasih buat Pak De, karena telah peduli, adil, dan memajukan di Timur Indonesia yang sekian puluh tahun BBM dan bahan2 bangunan sangat mahal dan lambat pembangunannya 🙏🏽💝🙏🏽\\n.\\nSayangnya hanya boleh 2 periode...\\n😓😢😢\\n.\\nSungguh kami bangga kepadamu Pak Presiden Jokowi & kami juga sangat bangga menjadi anak Indonesia...\\n💪🏽❤️🇮🇩🇮🇩🇮🇩🇮🇩🇮🇩🇮🇩🇮🇩🇮🇩🇮🇩🇮🇩\\n.\\nYang sangat membanggakan bagi kami adalah ketika seluruh dunia menghormati & menghargai dedikasimu, integritasmu, kejujuranmu, keberanianmu, kesederhanaanmu, kerendah-hatianmu, kepandaianmu, loyalitasmu, luar biasa.... 🤗👍\\n.\\nAnugerah terindah untuk Bangsa dan Negara Indonesia. 🇮🇩🇮🇩🇮🇩\\n.\\nSehat2 selalu Pak De. Tuhan memberkati Bapak Presiden dan keluarga. Amin.\\n.\\n#MyTrueLove #TheJohan 🙏🏽♥️😇', 'Sendhiko dhawuh pak😂', 'Selamat malam pak', '❤️❤️❤️❤️🔥🔥🔥', '😂😂😂 sa ae pakde']\n"
          ]
        }
      ]
    },
    {
      "cell_type": "code",
      "source": [
        "responses = vectorizer.fit_transform(komen)\n",
        "print(responses)"
      ],
      "metadata": {
        "colab": {
          "base_uri": "https://localhost:8080/"
        },
        "id": "-GI2y_io6lIU",
        "outputId": "ee3c08b3-bc7b-4911-8863-6131c85f94e1"
      },
      "execution_count": 41,
      "outputs": [
        {
          "output_type": "stream",
          "name": "stdout",
          "text": [
            "  (0, 85)\t0.34504683527633023\n",
            "  (0, 177)\t0.34504683527633023\n",
            "  (0, 47)\t0.3175876670531233\n",
            "  (0, 209)\t0.3837483592096614\n",
            "  (0, 228)\t0.3837483592096614\n",
            "  (0, 173)\t0.2641725065938043\n",
            "  (0, 95)\t0.2962886814707397\n",
            "  (0, 160)\t0.17402392702992295\n",
            "  (0, 194)\t0.27888614311979215\n",
            "  (0, 188)\t0.3175876670531233\n",
            "  (1, 226)\t0.43291096713621674\n",
            "  (1, 82)\t0.520444711931756\n",
            "  (1, 222)\t0.520444711931756\n",
            "  (1, 93)\t0.520444711931756\n",
            "  (2, 16)\t0.37006977077427883\n",
            "  (2, 96)\t0.332747750374973\n",
            "  (2, 130)\t0.37006977077427883\n",
            "  (2, 92)\t0.37006977077427883\n",
            "  (2, 184)\t0.332747750374973\n",
            "  (2, 29)\t0.30626735548561623\n",
            "  (2, 69)\t0.37006977077427883\n",
            "  (2, 125)\t0.37006977077427883\n",
            "  (3, 72)\t0.5773502691896258\n",
            "  (3, 90)\t0.5773502691896258\n",
            "  (3, 148)\t0.5773502691896258\n",
            "  :\t:\n",
            "  (35, 60)\t0.05793264195588816\n",
            "  (35, 227)\t0.23173056782355264\n",
            "  (35, 97)\t0.05793264195588816\n",
            "  (35, 52)\t0.43237916027401363\n",
            "  (35, 41)\t0.06294159641511614\n",
            "  (35, 129)\t0.06294159641511614\n",
            "  (35, 197)\t0.06294159641511614\n",
            "  (35, 170)\t0.06294159641511614\n",
            "  (35, 29)\t0.05793264195588816\n",
            "  (35, 222)\t0.05793264195588816\n",
            "  (35, 85)\t0.31470798207558065\n",
            "  (35, 47)\t0.05793264195588816\n",
            "  (35, 173)\t0.19275573741380098\n",
            "  (35, 95)\t0.10809479006850341\n",
            "  (35, 160)\t0.0952335392925925\n",
            "  (35, 194)\t0.05087291715617837\n",
            "  (36, 59)\t0.6733360706029474\n",
            "  (36, 200)\t0.6733360706029474\n",
            "  (36, 160)\t0.30534746118146344\n",
            "  (37, 134)\t0.7046244374725711\n",
            "  (37, 196)\t0.6335621413704641\n",
            "  (37, 160)\t0.31953625011653225\n",
            "  (39, 8)\t0.6102883028096625\n",
            "  (39, 181)\t0.6102883028096625\n",
            "  (39, 161)\t0.5050706632812909\n"
          ]
        }
      ]
    },
    {
      "cell_type": "code",
      "source": [
        "clf = neighbors.KNeighborsClassifier(n_neighbors=3)\n",
        "clf.fit(x_train, y_train)\n",
        "hasilig=clf.predict(responses)"
      ],
      "metadata": {
        "colab": {
          "base_uri": "https://localhost:8080/",
          "height": 346
        },
        "id": "Fdj2jbde68lX",
        "outputId": "8ac39467-278e-4d23-c7ad-98c61fe56e0e"
      },
      "execution_count": 42,
      "outputs": [
        {
          "output_type": "error",
          "ename": "ValueError",
          "evalue": "ignored",
          "traceback": [
            "\u001b[0;31m---------------------------------------------------------------------------\u001b[0m",
            "\u001b[0;31mValueError\u001b[0m                                Traceback (most recent call last)",
            "\u001b[0;32m<ipython-input-42-fde69ddae865>\u001b[0m in \u001b[0;36m<module>\u001b[0;34m()\u001b[0m\n\u001b[1;32m      1\u001b[0m \u001b[0mclf\u001b[0m \u001b[0;34m=\u001b[0m \u001b[0mneighbors\u001b[0m\u001b[0;34m.\u001b[0m\u001b[0mKNeighborsClassifier\u001b[0m\u001b[0;34m(\u001b[0m\u001b[0mn_neighbors\u001b[0m\u001b[0;34m=\u001b[0m\u001b[0;36m3\u001b[0m\u001b[0;34m)\u001b[0m\u001b[0;34m\u001b[0m\u001b[0;34m\u001b[0m\u001b[0m\n\u001b[1;32m      2\u001b[0m \u001b[0mclf\u001b[0m\u001b[0;34m.\u001b[0m\u001b[0mfit\u001b[0m\u001b[0;34m(\u001b[0m\u001b[0mx_train\u001b[0m\u001b[0;34m,\u001b[0m \u001b[0my_train\u001b[0m\u001b[0;34m)\u001b[0m\u001b[0;34m\u001b[0m\u001b[0;34m\u001b[0m\u001b[0m\n\u001b[0;32m----> 3\u001b[0;31m \u001b[0mhasilig\u001b[0m\u001b[0;34m=\u001b[0m\u001b[0mclf\u001b[0m\u001b[0;34m.\u001b[0m\u001b[0mpredict\u001b[0m\u001b[0;34m(\u001b[0m\u001b[0mresponses\u001b[0m\u001b[0;34m)\u001b[0m\u001b[0;34m\u001b[0m\u001b[0;34m\u001b[0m\u001b[0m\n\u001b[0m",
            "\u001b[0;32m/usr/local/lib/python3.7/dist-packages/sklearn/neighbors/_classification.py\u001b[0m in \u001b[0;36mpredict\u001b[0;34m(self, X)\u001b[0m\n\u001b[1;32m    212\u001b[0m             \u001b[0mClass\u001b[0m \u001b[0mlabels\u001b[0m \u001b[0;32mfor\u001b[0m \u001b[0meach\u001b[0m \u001b[0mdata\u001b[0m \u001b[0msample\u001b[0m\u001b[0;34m.\u001b[0m\u001b[0;34m\u001b[0m\u001b[0;34m\u001b[0m\u001b[0m\n\u001b[1;32m    213\u001b[0m         \"\"\"\n\u001b[0;32m--> 214\u001b[0;31m         \u001b[0mneigh_dist\u001b[0m\u001b[0;34m,\u001b[0m \u001b[0mneigh_ind\u001b[0m \u001b[0;34m=\u001b[0m \u001b[0mself\u001b[0m\u001b[0;34m.\u001b[0m\u001b[0mkneighbors\u001b[0m\u001b[0;34m(\u001b[0m\u001b[0mX\u001b[0m\u001b[0;34m)\u001b[0m\u001b[0;34m\u001b[0m\u001b[0;34m\u001b[0m\u001b[0m\n\u001b[0m\u001b[1;32m    215\u001b[0m         \u001b[0mclasses_\u001b[0m \u001b[0;34m=\u001b[0m \u001b[0mself\u001b[0m\u001b[0;34m.\u001b[0m\u001b[0mclasses_\u001b[0m\u001b[0;34m\u001b[0m\u001b[0;34m\u001b[0m\u001b[0m\n\u001b[1;32m    216\u001b[0m         \u001b[0m_y\u001b[0m \u001b[0;34m=\u001b[0m \u001b[0mself\u001b[0m\u001b[0;34m.\u001b[0m\u001b[0m_y\u001b[0m\u001b[0;34m\u001b[0m\u001b[0;34m\u001b[0m\u001b[0m\n",
            "\u001b[0;32m/usr/local/lib/python3.7/dist-packages/sklearn/neighbors/_base.py\u001b[0m in \u001b[0;36mkneighbors\u001b[0;34m(self, X, n_neighbors, return_distance)\u001b[0m\n\u001b[1;32m    715\u001b[0m                 \u001b[0mX\u001b[0m \u001b[0;34m=\u001b[0m \u001b[0m_check_precomputed\u001b[0m\u001b[0;34m(\u001b[0m\u001b[0mX\u001b[0m\u001b[0;34m)\u001b[0m\u001b[0;34m\u001b[0m\u001b[0;34m\u001b[0m\u001b[0m\n\u001b[1;32m    716\u001b[0m             \u001b[0;32melse\u001b[0m\u001b[0;34m:\u001b[0m\u001b[0;34m\u001b[0m\u001b[0;34m\u001b[0m\u001b[0m\n\u001b[0;32m--> 717\u001b[0;31m                 \u001b[0mX\u001b[0m \u001b[0;34m=\u001b[0m \u001b[0mself\u001b[0m\u001b[0;34m.\u001b[0m\u001b[0m_validate_data\u001b[0m\u001b[0;34m(\u001b[0m\u001b[0mX\u001b[0m\u001b[0;34m,\u001b[0m \u001b[0maccept_sparse\u001b[0m\u001b[0;34m=\u001b[0m\u001b[0;34m\"csr\"\u001b[0m\u001b[0;34m,\u001b[0m \u001b[0mreset\u001b[0m\u001b[0;34m=\u001b[0m\u001b[0;32mFalse\u001b[0m\u001b[0;34m)\u001b[0m\u001b[0;34m\u001b[0m\u001b[0;34m\u001b[0m\u001b[0m\n\u001b[0m\u001b[1;32m    718\u001b[0m         \u001b[0;32melse\u001b[0m\u001b[0;34m:\u001b[0m\u001b[0;34m\u001b[0m\u001b[0;34m\u001b[0m\u001b[0m\n\u001b[1;32m    719\u001b[0m             \u001b[0mquery_is_train\u001b[0m \u001b[0;34m=\u001b[0m \u001b[0;32mTrue\u001b[0m\u001b[0;34m\u001b[0m\u001b[0;34m\u001b[0m\u001b[0m\n",
            "\u001b[0;32m/usr/local/lib/python3.7/dist-packages/sklearn/base.py\u001b[0m in \u001b[0;36m_validate_data\u001b[0;34m(self, X, y, reset, validate_separately, **check_params)\u001b[0m\n\u001b[1;32m    583\u001b[0m \u001b[0;34m\u001b[0m\u001b[0m\n\u001b[1;32m    584\u001b[0m         \u001b[0;32mif\u001b[0m \u001b[0;32mnot\u001b[0m \u001b[0mno_val_X\u001b[0m \u001b[0;32mand\u001b[0m \u001b[0mcheck_params\u001b[0m\u001b[0;34m.\u001b[0m\u001b[0mget\u001b[0m\u001b[0;34m(\u001b[0m\u001b[0;34m\"ensure_2d\"\u001b[0m\u001b[0;34m,\u001b[0m \u001b[0;32mTrue\u001b[0m\u001b[0;34m)\u001b[0m\u001b[0;34m:\u001b[0m\u001b[0;34m\u001b[0m\u001b[0;34m\u001b[0m\u001b[0m\n\u001b[0;32m--> 585\u001b[0;31m             \u001b[0mself\u001b[0m\u001b[0;34m.\u001b[0m\u001b[0m_check_n_features\u001b[0m\u001b[0;34m(\u001b[0m\u001b[0mX\u001b[0m\u001b[0;34m,\u001b[0m \u001b[0mreset\u001b[0m\u001b[0;34m=\u001b[0m\u001b[0mreset\u001b[0m\u001b[0;34m)\u001b[0m\u001b[0;34m\u001b[0m\u001b[0;34m\u001b[0m\u001b[0m\n\u001b[0m\u001b[1;32m    586\u001b[0m \u001b[0;34m\u001b[0m\u001b[0m\n\u001b[1;32m    587\u001b[0m         \u001b[0;32mreturn\u001b[0m \u001b[0mout\u001b[0m\u001b[0;34m\u001b[0m\u001b[0;34m\u001b[0m\u001b[0m\n",
            "\u001b[0;32m/usr/local/lib/python3.7/dist-packages/sklearn/base.py\u001b[0m in \u001b[0;36m_check_n_features\u001b[0;34m(self, X, reset)\u001b[0m\n\u001b[1;32m    399\u001b[0m         \u001b[0;32mif\u001b[0m \u001b[0mn_features\u001b[0m \u001b[0;34m!=\u001b[0m \u001b[0mself\u001b[0m\u001b[0;34m.\u001b[0m\u001b[0mn_features_in_\u001b[0m\u001b[0;34m:\u001b[0m\u001b[0;34m\u001b[0m\u001b[0;34m\u001b[0m\u001b[0m\n\u001b[1;32m    400\u001b[0m             raise ValueError(\n\u001b[0;32m--> 401\u001b[0;31m                 \u001b[0;34mf\"X has {n_features} features, but {self.__class__.__name__} \"\u001b[0m\u001b[0;34m\u001b[0m\u001b[0;34m\u001b[0m\u001b[0m\n\u001b[0m\u001b[1;32m    402\u001b[0m                 \u001b[0;34mf\"is expecting {self.n_features_in_} features as input.\"\u001b[0m\u001b[0;34m\u001b[0m\u001b[0;34m\u001b[0m\u001b[0m\n\u001b[1;32m    403\u001b[0m             )\n",
            "\u001b[0;31mValueError\u001b[0m: X has 229 features, but KNeighborsClassifier is expecting 10724 features as input."
          ]
        }
      ]
    }
  ]
}